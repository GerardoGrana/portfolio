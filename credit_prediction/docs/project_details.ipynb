{
 "cells": [
  {
   "attachments": {},
   "cell_type": "markdown",
   "metadata": {},
   "source": [
    "# DESAFÍO\n",
    "\n",
    "Una empresa emisora de tarjetas de crédito desea saber cuáles de sus clientes son candidatos\n",
    "probables de abandonar o emigrar a otra tarjeta, término conocido como churn. Para ello se nos\n",
    "solicitó analizar los datos de sus clientes, contenidos en el archivo “Dataset_ejercicio.csv”, con la\n",
    "finalidad de predecir futuros abandonos.\n",
    "\n",
    "Realice el análisis exploratorio y modelo de predicción del set de datos “Dataset_ejercicio.csv” usando\n",
    "un jupyter notebook. Detalle todos los pasos que usó para el análisis.\n",
    "Escriba en celda de texto el punto a realizar con descripción de lo hecho antes de cada paso.\n",
    "\n",
    "[Exploratorio](/home/gera/Documentos/Proyectos/portfolio/credit_prediction/notebooks/exploratory.ipynb)\n",
    "1. Importar las librerías necesarias para el exploratorio.\n",
    "2. Importar el csv en el que se encuentra el set de datos.\n",
    "3. Usar las funciones necesarias para explicar el contenido del set de datos (¿de qué son los datos?\n",
    "¿Qué significan? ¿Qué información hay en cada columna?)\n",
    "4. ¿Cuáles variables tienen datos numéricos y cuáles categóricos?\n",
    "5. ¿Qué datos tienen las variables categóricas? Describir las columnas numéricas (media,\n",
    "percentiles)\n",
    "6. ¿Alguna variable tienen NaNs, valores incompletos o ceros excesivos? ¿Cómo resolvería cada\n",
    "caso?\n",
    "\n",
    "[Features y predicción](/home/gera/Documentos/Proyectos/portfolio/credit_prediction/notebooks/features_prediction.ipynb)\n",
    "\n",
    "1. Realizar una exploración visual. ¿Es relevante el género para el abandono? (es decir, ¿hay más\n",
    "probabilidades de que abandone siendo de algún género en particular?). ¿Si es un senior citizen?\n",
    "¿El método de pago?\n",
    "\n",
    "[Modelo](/home/gera/Documentos/Proyectos/portfolio/credit_prediction/notebooks/model.ipynb)\n",
    "\n",
    "1. Dividir el set de datos entre valores dependientes (y) e independientes (X). Y sería la columna\n",
    "que se quiere predecir (“churn”).\n",
    "2. Generar sets de testeo y entrenamiento\n",
    "3. ¿Es necesario escalar las features? Hacerlo si fuera necesario.\n",
    "4. Probar por lo menos dos modelos y seleccionar uno. Explicar porque lo selecciono y qué\n",
    "métricas uso para decidir."
   ]
  },
  {
   "cell_type": "markdown",
   "metadata": {},
   "source": []
  }
 ],
 "metadata": {
  "kernelspec": {
   "display_name": "Python 3",
   "language": "python",
   "name": "python3"
  },
  "language_info": {
   "name": "python",
   "version": "3.10.6"
  },
  "orig_nbformat": 4,
  "vscode": {
   "interpreter": {
    "hash": "916dbcbb3f70747c44a77c7bcd40155683ae19c65e1c03b4aa3499c5328201f1"
   }
  }
 },
 "nbformat": 4,
 "nbformat_minor": 2
}
