{
 "cells": [
  {
   "attachments": {},
   "cell_type": "markdown",
   "metadata": {},
   "source": [
    "# Model\n",
    "\n",
    "1. Dividir el set de datos entre valores dependientes (y) e independientes (X). Y sería la columna\n",
    "que se quiere predecir (“churn”).\n",
    "2. Generar sets de testeo y entrenamiento.\n",
    "3. ¿Es necesario escalar las features? Hacerlo si fuera necesario.\n",
    "4. Probar por lo menos dos modelos y seleccionar uno. Explicar porque lo selecciono y qué\n",
    "métricas uso para decidir.\n",
    "\n",
    "<hr/>"
   ]
  },
  {
   "cell_type": "markdown",
   "metadata": {},
   "source": []
  }
 ],
 "metadata": {
  "kernelspec": {
   "display_name": "Python 3",
   "language": "python",
   "name": "python3"
  },
  "language_info": {
   "name": "python",
   "version": "3.10.6"
  },
  "orig_nbformat": 4,
  "vscode": {
   "interpreter": {
    "hash": "916dbcbb3f70747c44a77c7bcd40155683ae19c65e1c03b4aa3499c5328201f1"
   }
  }
 },
 "nbformat": 4,
 "nbformat_minor": 2
}
