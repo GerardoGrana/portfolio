{
 "cells": [
  {
   "attachments": {},
   "cell_type": "markdown",
   "metadata": {},
   "source": [
    "# Features and prediction\n",
    "\n",
    "**Realizar una exploración visual.** \n",
    "<br/>\n",
    "\n",
    "* ¿Es relevante el género para el abandono? (es decir, ¿hay más\n",
    "probabilidades de que abandone siendo de algún género en particular?). \n",
    "* ¿Si es un senior citizen? \n",
    "* ¿El método de pago?\n",
    "\n",
    "<hr/>"
   ]
  },
  {
   "cell_type": "markdown",
   "metadata": {},
   "source": []
  }
 ],
 "metadata": {
  "kernelspec": {
   "display_name": "Python 3",
   "language": "python",
   "name": "python3"
  },
  "language_info": {
   "name": "python",
   "version": "3.10.6"
  },
  "orig_nbformat": 4,
  "vscode": {
   "interpreter": {
    "hash": "916dbcbb3f70747c44a77c7bcd40155683ae19c65e1c03b4aa3499c5328201f1"
   }
  }
 },
 "nbformat": 4,
 "nbformat_minor": 2
}
