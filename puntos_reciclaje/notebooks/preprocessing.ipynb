{
 "cells": [
  {
   "attachments": {},
   "cell_type": "markdown",
   "metadata": {},
   "source": [
    "# PREPROCESSING\n",
    "\n",
    "\n",
    "\n",
    "[See proyect](https://docs.google.com/presentation/d/1sop7FFY0EzIWnD0_ExcNTRC9M86hNef1z3XeX2xgchQ/edit?usp=sharing)\n",
    "<hr/>\n",
    "\n",
    "<br>\n",
    "\n",
    "Here we prepare data in order to build dataframes.\n",
    "\n",
    "We have a **first set** of raw files that contain *features* [F] and *taget* [T] ready to be massaged in order to get the train-test dataframe.\n",
    "<br>\n",
    "A **second set** of raw files need to be processed in order to build a **business case** where to apply our algorithm.\n",
    "\n",
    "**First set** contains:\n",
    "* PV_geodata.csv [F]\n",
    "* R_geodata.csv [F]\n",
    "* PV_R_feature_comercios.csv [F]\n",
    "* PVR_observaciones.csv [T]\n",
    "\n",
    "**Second set** contains:\n",
    "* DAM_geodata.csv\n",
    "* DAM_geodata_features_comercios.csv\n",
    "\n",
    "<hr/>\n",
    "\n",
    "<br>\n",
    "\n",
    "**GEODATA**\n",
    "<br>\n",
    "\n",
    "These files contains *features*  (=GEODATA). It`s a collection geographic data containing *demographic* and *land-use* data extracted from different sources: INDEC, Municipalidad de Ciudad de Mendoza.\n",
    "Columns are the followings:....................\n",
    "\n",
    "\n",
    "<br>\n",
    "\n",
    "**COMERCIOS**\n",
    ".........\n",
    "\n",
    "**OBSERVACIONES**\n",
    "<br>\n",
    "\n",
    "Here we have the *target* column. This one contains around 800 observations of 77 *reciclyng spots* sparsed in the territory. This observations are structured in two parameters: composition and quantity of recicling matherials. These two are combined in order to build a quality indicator. Each observation is a line in the file and represents a  *reciclyng spot* + *date/time tag*. \n",
    "<br>\n",
    "\n",
    "As we detected in a quick view, an statistical approach is needed in order to understand the *probability distribution*. Based on this diagnosis, we could need some data adjustements in this stage to improve the data consistency.\n",
    "\n",
    "<hr/>\n",
    "\n",
    "<br>\n"
   ]
  },
  {
   "cell_type": "markdown",
   "metadata": {},
   "source": []
  }
 ],
 "metadata": {
  "language_info": {
   "name": "python"
  },
  "orig_nbformat": 4
 },
 "nbformat": 4,
 "nbformat_minor": 2
}
