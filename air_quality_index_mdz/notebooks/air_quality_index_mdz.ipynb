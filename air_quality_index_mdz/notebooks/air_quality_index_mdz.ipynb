{
 "cells": [
  {
   "attachments": {},
   "cell_type": "markdown",
   "metadata": {},
   "source": [
    "## AIR QUALITY INDEX\n",
    "### DATA ANALYSIS\n",
    "\n",
    "API CONNECTIONS - Nodes:\n",
    "* Acuario: https://www.airvisual.com/api/v2/node/5f97537a21259e056555554b\n",
    "* Plaza independencia: https://www.airvisual.com/api/v2/node/5f9753a521259e3d4955554e\n",
    "* Jardín Maternal: https://www.airvisual.com/api/v2/node/5f97538ed76cd973c9e3cb3a\n",
    "* Barrio La Favorita: https://www.airvisual.com/api/v2/node/5f97536bd76cd95402e3cb37\n",
    "\n",
    "<HR/>"
   ]
  },
  {
   "cell_type": "code",
   "execution_count": 1,
   "metadata": {},
   "outputs": [],
   "source": [
    "# libraries\n",
    "import requests\n",
    "import json\n",
    "import pprint\n",
    "import pandas as pd"
   ]
  },
  {
   "cell_type": "code",
   "execution_count": 203,
   "metadata": {},
   "outputs": [],
   "source": [
    "\n",
    "acuario = \"https://www.airvisual.com/api/v2/node/5f97537a21259e056555554b\"\n",
    "\n",
    "response = requests.get (acuario)\n",
    "\n",
    "if response.status_code == 200:\n",
    "    raw_data =  json.loads(response.text)\n",
    "else:\n",
    "    print (f'Error: {response.status_code}')\n"
   ]
  },
  {
   "cell_type": "code",
   "execution_count": 211,
   "metadata": {},
   "outputs": [
    {
     "data": {
      "text/plain": [
       "dict_keys(['historical', 'settings', 'current'])"
      ]
     },
     "execution_count": 211,
     "metadata": {},
     "output_type": "execute_result"
    }
   ],
   "source": [
    "raw_data.keys()"
   ]
  },
  {
   "cell_type": "code",
   "execution_count": 208,
   "metadata": {},
   "outputs": [
    {
     "data": {
      "text/plain": [
       "dict_keys(['daily', 'hourly', 'monthly', 'instant'])"
      ]
     },
     "execution_count": 208,
     "metadata": {},
     "output_type": "execute_result"
    }
   ],
   "source": [
    "raw_data['historical'].keys()"
   ]
  },
  {
   "cell_type": "code",
   "execution_count": 233,
   "metadata": {},
   "outputs": [
    {
     "data": {
      "text/plain": [
       "{'p1_sum': 70,\n",
       " 'p1_count': 1,\n",
       " 'p2_sum': 8,\n",
       " 'p2_count': 1,\n",
       " 'p01_sum': 7,\n",
       " 'p01_count': 1,\n",
       " 'tp_sum': 24,\n",
       " 'tp_count': 1,\n",
       " 'co_sum': 405,\n",
       " 'co_count': 1,\n",
       " 'hm_sum': 33,\n",
       " 'hm_count': 1,\n",
       " 'ts': '2023-02-14T14:00:00.000Z',\n",
       " 'outdoor_station': {}}"
      ]
     },
     "execution_count": 233,
     "metadata": {},
     "output_type": "execute_result"
    }
   ],
   "source": [
    "raw_data['historical']['hourly'][30]"
   ]
  },
  {
   "cell_type": "code",
   "execution_count": 238,
   "metadata": {},
   "outputs": [],
   "source": [
    "acuario_norm_1 = pd.json_normalize(raw_data)"
   ]
  },
  {
   "cell_type": "code",
   "execution_count": 249,
   "metadata": {},
   "outputs": [
    {
     "data": {
      "text/html": [
       "<div>\n",
       "<style scoped>\n",
       "    .dataframe tbody tr th:only-of-type {\n",
       "        vertical-align: middle;\n",
       "    }\n",
       "\n",
       "    .dataframe tbody tr th {\n",
       "        vertical-align: top;\n",
       "    }\n",
       "\n",
       "    .dataframe thead th {\n",
       "        text-align: right;\n",
       "    }\n",
       "</style>\n",
       "<table border=\"1\" class=\"dataframe\">\n",
       "  <thead>\n",
       "    <tr style=\"text-align: right;\">\n",
       "      <th></th>\n",
       "      <th>historical.daily</th>\n",
       "      <th>historical.hourly</th>\n",
       "      <th>historical.monthly</th>\n",
       "      <th>historical.instant</th>\n",
       "      <th>settings.node_name</th>\n",
       "      <th>current.ts</th>\n",
       "      <th>current.tp</th>\n",
       "      <th>current.hm</th>\n",
       "      <th>current.p2</th>\n",
       "      <th>current.p1</th>\n",
       "      <th>current.p01</th>\n",
       "      <th>current.co</th>\n",
       "      <th>current.errors.hcho</th>\n",
       "      <th>current.errors.voc</th>\n",
       "    </tr>\n",
       "  </thead>\n",
       "  <tbody>\n",
       "    <tr>\n",
       "      <th>0</th>\n",
       "      <td>[{'p1_sum': 54.7, 'p1_count': 1, 'p2_sum': 9.4...</td>\n",
       "      <td>[{'p1_sum': 47, 'p1_count': 1, 'p2_sum': 7, 'p...</td>\n",
       "      <td>[{'p1_sum': 29.2, 'p1_count': 1, 'p2_sum': 7.8...</td>\n",
       "      <td>[{'ts': '2023-02-15T21:48:54.102Z', 'tp': 30.8...</td>\n",
       "      <td>mendoza_acuario</td>\n",
       "      <td>2023-02-15T21:48:54.102Z</td>\n",
       "      <td>30.8</td>\n",
       "      <td>32</td>\n",
       "      <td>11</td>\n",
       "      <td>51</td>\n",
       "      <td>10</td>\n",
       "      <td>417</td>\n",
       "      <td>-205</td>\n",
       "      <td>-202</td>\n",
       "    </tr>\n",
       "  </tbody>\n",
       "</table>\n",
       "</div>"
      ],
      "text/plain": [
       "                                    historical.daily  \\\n",
       "0  [{'p1_sum': 54.7, 'p1_count': 1, 'p2_sum': 9.4...   \n",
       "\n",
       "                                   historical.hourly  \\\n",
       "0  [{'p1_sum': 47, 'p1_count': 1, 'p2_sum': 7, 'p...   \n",
       "\n",
       "                                  historical.monthly  \\\n",
       "0  [{'p1_sum': 29.2, 'p1_count': 1, 'p2_sum': 7.8...   \n",
       "\n",
       "                                  historical.instant settings.node_name  \\\n",
       "0  [{'ts': '2023-02-15T21:48:54.102Z', 'tp': 30.8...    mendoza_acuario   \n",
       "\n",
       "                 current.ts  current.tp  current.hm  current.p2  current.p1  \\\n",
       "0  2023-02-15T21:48:54.102Z        30.8          32          11          51   \n",
       "\n",
       "   current.p01  current.co  current.errors.hcho  current.errors.voc  \n",
       "0           10         417                 -205                -202  "
      ]
     },
     "execution_count": 249,
     "metadata": {},
     "output_type": "execute_result"
    }
   ],
   "source": [
    "acuario_norm_1"
   ]
  },
  {
   "cell_type": "code",
   "execution_count": 250,
   "metadata": {},
   "outputs": [],
   "source": [
    "col_list = acuario_norm_1['historical.daily'].to_dict"
   ]
  },
  {
   "cell_type": "code",
   "execution_count": 253,
   "metadata": {},
   "outputs": [
    {
     "name": "stdout",
     "output_type": "stream",
     "text": [
      "<bound method Series.to_dict of 0    [{'p1_sum': 54.7, 'p1_count': 1, 'p2_sum': 9.4...\n",
      "Name: historical.daily, dtype: object>\n"
     ]
    }
   ],
   "source": []
  },
  {
   "cell_type": "code",
   "execution_count": 206,
   "metadata": {},
   "outputs": [
    {
     "data": {
      "text/html": [
       "<div>\n",
       "<style scoped>\n",
       "    .dataframe tbody tr th:only-of-type {\n",
       "        vertical-align: middle;\n",
       "    }\n",
       "\n",
       "    .dataframe tbody tr th {\n",
       "        vertical-align: top;\n",
       "    }\n",
       "\n",
       "    .dataframe thead th {\n",
       "        text-align: right;\n",
       "    }\n",
       "</style>\n",
       "<table border=\"1\" class=\"dataframe\">\n",
       "  <thead>\n",
       "    <tr style=\"text-align: right;\">\n",
       "      <th></th>\n",
       "      <th>historical.hourly</th>\n",
       "    </tr>\n",
       "  </thead>\n",
       "  <tbody>\n",
       "    <tr>\n",
       "      <th>0</th>\n",
       "      <td>[{'p1_sum': 47, 'p1_count': 1, 'p2_sum': 7, 'p...</td>\n",
       "    </tr>\n",
       "  </tbody>\n",
       "</table>\n",
       "</div>"
      ],
      "text/plain": [
       "                                   historical.hourly\n",
       "0  [{'p1_sum': 47, 'p1_count': 1, 'p2_sum': 7, 'p..."
      ]
     },
     "execution_count": 206,
     "metadata": {},
     "output_type": "execute_result"
    }
   ],
   "source": [
    "acuario_df = pd.DataFrame(acuario_norm_1, columns=['historical.hourly'])\n",
    "acuario_df"
   ]
  },
  {
   "cell_type": "code",
   "execution_count": null,
   "metadata": {},
   "outputs": [],
   "source": []
  },
  {
   "attachments": {},
   "cell_type": "markdown",
   "metadata": {},
   "source": [
    "<hr/>\n"
   ]
  },
  {
   "attachments": {},
   "cell_type": "markdown",
   "metadata": {},
   "source": [
    "# Create a sample DataFrame with a nested dictionary\n",
    "data = {\n",
    "'id': [1, 2],\n",
    "'historical': [\n",
    "{'date': '2022-02-14', 'price': 10.5},\n",
    "{'date': '2022-02-15', 'price': 11.0}\n",
    "]\n",
    "}\n",
    "df = pd.DataFrame(data)\n",
    "\n",
    "# Extract the nested dictionary using json.loads() and json_normalize()\n",
    "historical_df = pd.json_normalize(json.loads(df.to_json(orient='records')), 'historical', ['id'])\n",
    "\n",
    "# Print the resulting DataFrame\n",
    "print(historical_df)"
   ]
  },
  {
   "cell_type": "code",
   "execution_count": null,
   "metadata": {},
   "outputs": [],
   "source": [
    "df = pd.DataFrame(raw_data)"
   ]
  },
  {
   "cell_type": "code",
   "execution_count": 178,
   "metadata": {},
   "outputs": [],
   "source": [
    "historical_raw = pd.json_normalize(json.loads(df.to_json(orient='records')), 'historical')"
   ]
  },
  {
   "cell_type": "code",
   "execution_count": 202,
   "metadata": {},
   "outputs": [
    {
     "data": {
      "text/plain": [
       "p1_sum                             28.0\n",
       "p1_count                            1.0\n",
       "p2_sum                              5.0\n",
       "p2_count                            1.0\n",
       "p01_sum                             4.0\n",
       "p01_count                           1.0\n",
       "tp_sum                             26.0\n",
       "tp_count                            1.0\n",
       "co_sum                            393.0\n",
       "co_count                            1.0\n",
       "hm_sum                             38.0\n",
       "hm_count                            1.0\n",
       "ts             2023-02-15T14:00:00.000Z\n",
       "tp                                  NaN\n",
       "hm                                  NaN\n",
       "p2                                  NaN\n",
       "p1                                  NaN\n",
       "p01                                 NaN\n",
       "co                                  NaN\n",
       "errors.hcho                         NaN\n",
       "errors.voc                          NaN\n",
       "Name: 30, dtype: object"
      ]
     },
     "execution_count": 202,
     "metadata": {},
     "output_type": "execute_result"
    }
   ],
   "source": [
    "historical_df.iloc[30]"
   ]
  },
  {
   "cell_type": "code",
   "execution_count": null,
   "metadata": {},
   "outputs": [],
   "source": []
  }
 ],
 "metadata": {
  "kernelspec": {
   "display_name": "base",
   "language": "python",
   "name": "python3"
  },
  "language_info": {
   "codemirror_mode": {
    "name": "ipython",
    "version": 3
   },
   "file_extension": ".py",
   "mimetype": "text/x-python",
   "name": "python",
   "nbconvert_exporter": "python",
   "pygments_lexer": "ipython3",
   "version": "3.10.8"
  },
  "orig_nbformat": 4,
  "vscode": {
   "interpreter": {
    "hash": "5e0b28665dba4be24d75ef984db836efda503db82810b2d4320f68caefe69656"
   }
  }
 },
 "nbformat": 4,
 "nbformat_minor": 2
}
